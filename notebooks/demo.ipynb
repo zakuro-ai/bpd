{
 "cells": [
  {
   "cell_type": "code",
   "execution_count": null,
   "id": "4a4023e2-e285-45ac-b0d2-843faecf1b88",
   "metadata": {},
   "outputs": [],
   "source": [
    "from gnutools import fs\n",
    "from bpd.dask import DataFrame\n",
    "from bpd.dask import functions as F\n",
    "from gnutools.remote import gdrivezip"
   ]
  },
  {
   "cell_type": "code",
   "execution_count": null,
   "id": "703c7f5c",
   "metadata": {},
   "outputs": [],
   "source": [
    "# Define a function to be applied to each row\n",
    "def word(f):\n",
    "    return fs.name(fs.parent(f))"
   ]
  },
  {
   "cell_type": "code",
   "execution_count": null,
   "id": "0eafc4dc-5992-4469-984c-9963f5ee1953",
   "metadata": {},
   "outputs": [],
   "source": [
    "# Import a sample dataset\n",
    "gdrivezip(\"gdrive://1y4gwaS7LjYUhwTex1-lNHJJ71nLEh3fE\")\n",
    "df = DataFrame({\"filename\": fs.listfiles(\"/tmp/1y4gwaS7LjYUhwTex1-lNHJJ71nLEh3fE\", [\".wav\"])})"
   ]
  },
  {
   "cell_type": "code",
   "execution_count": null,
   "id": "0e4fb7c1-7cd1-4f86-aadc-02f3a829622f",
   "metadata": {},
   "outputs": [],
   "source": [
    "# Chain transformations\n",
    "df = df\\\n",
    "    .withColumn(\"name\", F.apply(fs.name, F.col(\"filename\")))\\\n",
    "    .withColumn(\"word\", F.apply(word, F.col(\"filename\")))\\\n",
    "    .set_index(\"word\")"
   ]
  },
  {
   "cell_type": "code",
   "execution_count": null,
   "id": "34aec296-a2a8-42b7-9e31-0ff9bb33a8da",
   "metadata": {},
   "outputs": [],
   "source": [
    "#Display the dataframe\n",
    "df.display()"
   ]
  },
  {
   "cell_type": "code",
   "execution_count": null,
   "id": "b16a84d9-9b4a-48e8-8ba3-9ca58db628d6",
   "metadata": {},
   "outputs": [],
   "source": [
    "# Define a function to be applied to a groupby\n",
    "def first(L):\n",
    "    return L[0]"
   ]
  },
  {
   "cell_type": "code",
   "execution_count": null,
   "id": "6334da5c-fd2d-4075-b9fd-a747a3c93dc4",
   "metadata": {},
   "outputs": [],
   "source": [
    "# Join to the dataframe grouped by word. \n",
    "# The aggregation with generate a list of files for each unique word.\n",
    "# Add a column `first` that will contain the result of the function first given the input of the filename column\n",
    "# Drop the colummn filename \n",
    "# Join on word, right\n",
    "# Reset the index and display\n",
    "df.join(df\\\n",
    "        .select([\"filename\"])\\\n",
    "        .aggregate(\"word\")\\\n",
    "        .withColumn(\"first\", F.apply(first, F.col(\"filename\")))\\\n",
    "        .drop_column(F.col(\"filename\")), on=\"word\", how=\"right\"\n",
    "       )\\\n",
    ".reset_index().display()"
   ]
  },
  {
   "cell_type": "code",
   "execution_count": null,
   "id": "2eeb0bfb-a75e-4eb9-abc7-76941ca97e3f",
   "metadata": {},
   "outputs": [],
   "source": []
  }
 ],
 "metadata": {
  "kernelspec": {
   "display_name": "Python 3 (ipykernel)",
   "language": "python",
   "name": "python3"
  },
  "language_info": {
   "codemirror_mode": {
    "name": "ipython",
    "version": 3
   },
   "file_extension": ".py",
   "mimetype": "text/x-python",
   "name": "python",
   "nbconvert_exporter": "python",
   "pygments_lexer": "ipython3",
   "version": "3.8.8"
  },
  "vscode": {
   "interpreter": {
    "hash": "753dbb1416063168754510b979645634b77710eb6a04c7fb2714fb444ae64ce9"
   }
  }
 },
 "nbformat": 4,
 "nbformat_minor": 5
}
