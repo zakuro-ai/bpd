{
 "cells": [
  {
   "cell_type": "code",
   "execution_count": 1,
   "id": "4a4023e2-e285-45ac-b0d2-843faecf1b88",
   "metadata": {},
   "outputs": [],
   "source": [
    "from gnutools import fs\n",
    "from bpd import cfg\n",
    "from bpd.dask import DataFrame, udf\n",
    "from bpd.dask import functions as F\n",
    "from gnutools.remote import gdrivezip"
   ]
  },
  {
   "cell_type": "code",
   "execution_count": 2,
   "id": "0eafc4dc-5992-4469-984c-9963f5ee1953",
   "metadata": {},
   "outputs": [
    {
     "data": {
      "text/html": [
       "<div>\n",
       "<style scoped>\n",
       "    .dataframe tbody tr th:only-of-type {\n",
       "        vertical-align: middle;\n",
       "    }\n",
       "\n",
       "    .dataframe tbody tr th {\n",
       "        vertical-align: top;\n",
       "    }\n",
       "\n",
       "    .dataframe thead th {\n",
       "        text-align: right;\n",
       "    }\n",
       "</style>\n",
       "<table border=\"1\" class=\"dataframe\">\n",
       "  <thead>\n",
       "    <tr style=\"text-align: right;\">\n",
       "      <th></th>\n",
       "      <th>filename</th>\n",
       "    </tr>\n",
       "  </thead>\n",
       "  <tbody>\n",
       "    <tr>\n",
       "      <th>0</th>\n",
       "      <td>/tmp/1y4gwaS7LjYUhwTex1-lNHJJ71nLEh3fE/wow/919...</td>\n",
       "    </tr>\n",
       "    <tr>\n",
       "      <th>1</th>\n",
       "      <td>/tmp/1y4gwaS7LjYUhwTex1-lNHJJ71nLEh3fE/wow/6a2...</td>\n",
       "    </tr>\n",
       "    <tr>\n",
       "      <th>2</th>\n",
       "      <td>/tmp/1y4gwaS7LjYUhwTex1-lNHJJ71nLEh3fE/wow/682...</td>\n",
       "    </tr>\n",
       "    <tr>\n",
       "      <th>3</th>\n",
       "      <td>/tmp/1y4gwaS7LjYUhwTex1-lNHJJ71nLEh3fE/wow/beb...</td>\n",
       "    </tr>\n",
       "    <tr>\n",
       "      <th>4</th>\n",
       "      <td>/tmp/1y4gwaS7LjYUhwTex1-lNHJJ71nLEh3fE/wow/d37...</td>\n",
       "    </tr>\n",
       "  </tbody>\n",
       "</table>\n",
       "</div>"
      ],
      "text/plain": [
       "                                            filename\n",
       "0  /tmp/1y4gwaS7LjYUhwTex1-lNHJJ71nLEh3fE/wow/919...\n",
       "1  /tmp/1y4gwaS7LjYUhwTex1-lNHJJ71nLEh3fE/wow/6a2...\n",
       "2  /tmp/1y4gwaS7LjYUhwTex1-lNHJJ71nLEh3fE/wow/682...\n",
       "3  /tmp/1y4gwaS7LjYUhwTex1-lNHJJ71nLEh3fE/wow/beb...\n",
       "4  /tmp/1y4gwaS7LjYUhwTex1-lNHJJ71nLEh3fE/wow/d37..."
      ]
     },
     "execution_count": 2,
     "metadata": {},
     "output_type": "execute_result"
    }
   ],
   "source": [
    "# Import a sample dataset\n",
    "df = DataFrame({\"filename\": fs.listfiles(gdrivezip(cfg.gdrive.google_mini)[0], [\".wav\"])})\n",
    "df.compute()      "
   ]
  },
  {
   "cell_type": "code",
   "execution_count": 3,
   "id": "53fc66b1",
   "metadata": {},
   "outputs": [
    {
     "data": {
      "text/html": [
       "<div>\n",
       "<style scoped>\n",
       "    .dataframe tbody tr th:only-of-type {\n",
       "        vertical-align: middle;\n",
       "    }\n",
       "\n",
       "    .dataframe tbody tr th {\n",
       "        vertical-align: top;\n",
       "    }\n",
       "\n",
       "    .dataframe thead th {\n",
       "        text-align: right;\n",
       "    }\n",
       "</style>\n",
       "<table border=\"1\" class=\"dataframe\">\n",
       "  <thead>\n",
       "    <tr style=\"text-align: right;\">\n",
       "      <th></th>\n",
       "      <th>filename</th>\n",
       "      <th>classe</th>\n",
       "    </tr>\n",
       "  </thead>\n",
       "  <tbody>\n",
       "    <tr>\n",
       "      <th>0</th>\n",
       "      <td>/tmp/1y4gwaS7LjYUhwTex1-lNHJJ71nLEh3fE/wow/919...</td>\n",
       "      <td>wow</td>\n",
       "    </tr>\n",
       "    <tr>\n",
       "      <th>1</th>\n",
       "      <td>/tmp/1y4gwaS7LjYUhwTex1-lNHJJ71nLEh3fE/wow/6a2...</td>\n",
       "      <td>wow</td>\n",
       "    </tr>\n",
       "    <tr>\n",
       "      <th>2</th>\n",
       "      <td>/tmp/1y4gwaS7LjYUhwTex1-lNHJJ71nLEh3fE/wow/682...</td>\n",
       "      <td>wow</td>\n",
       "    </tr>\n",
       "    <tr>\n",
       "      <th>3</th>\n",
       "      <td>/tmp/1y4gwaS7LjYUhwTex1-lNHJJ71nLEh3fE/wow/beb...</td>\n",
       "      <td>wow</td>\n",
       "    </tr>\n",
       "    <tr>\n",
       "      <th>4</th>\n",
       "      <td>/tmp/1y4gwaS7LjYUhwTex1-lNHJJ71nLEh3fE/wow/d37...</td>\n",
       "      <td>wow</td>\n",
       "    </tr>\n",
       "  </tbody>\n",
       "</table>\n",
       "</div>"
      ],
      "text/plain": [
       "                                            filename classe\n",
       "0  /tmp/1y4gwaS7LjYUhwTex1-lNHJJ71nLEh3fE/wow/919...    wow\n",
       "1  /tmp/1y4gwaS7LjYUhwTex1-lNHJJ71nLEh3fE/wow/6a2...    wow\n",
       "2  /tmp/1y4gwaS7LjYUhwTex1-lNHJJ71nLEh3fE/wow/682...    wow\n",
       "3  /tmp/1y4gwaS7LjYUhwTex1-lNHJJ71nLEh3fE/wow/beb...    wow\n",
       "4  /tmp/1y4gwaS7LjYUhwTex1-lNHJJ71nLEh3fE/wow/d37...    wow"
      ]
     },
     "execution_count": 3,
     "metadata": {},
     "output_type": "execute_result"
    }
   ],
   "source": [
    "# Register a user-defined function\n",
    "@udf\n",
    "def word(f):\n",
    "    return fs.name(fs.parent(f))\n",
    "\n",
    "# Apply a udf function\n",
    "df\\\n",
    ".withColumn(\"classe\", word(F.col(\"filename\")))\\\n",
    ".compute()    "
   ]
  },
  {
   "cell_type": "code",
   "execution_count": 4,
   "id": "428edc9e",
   "metadata": {},
   "outputs": [
    {
     "data": {
      "text/html": [
       "<div>\n",
       "<style scoped>\n",
       "    .dataframe tbody tr th:only-of-type {\n",
       "        vertical-align: middle;\n",
       "    }\n",
       "\n",
       "    .dataframe tbody tr th {\n",
       "        vertical-align: top;\n",
       "    }\n",
       "\n",
       "    .dataframe thead th {\n",
       "        text-align: right;\n",
       "    }\n",
       "</style>\n",
       "<table border=\"1\" class=\"dataframe\">\n",
       "  <thead>\n",
       "    <tr style=\"text-align: right;\">\n",
       "      <th></th>\n",
       "      <th>filename</th>\n",
       "      <th>name</th>\n",
       "    </tr>\n",
       "  </thead>\n",
       "  <tbody>\n",
       "    <tr>\n",
       "      <th>0</th>\n",
       "      <td>/tmp/1y4gwaS7LjYUhwTex1-lNHJJ71nLEh3fE/wow/919...</td>\n",
       "      <td>919d3c0e_nohash_2</td>\n",
       "    </tr>\n",
       "    <tr>\n",
       "      <th>1</th>\n",
       "      <td>/tmp/1y4gwaS7LjYUhwTex1-lNHJJ71nLEh3fE/wow/6a2...</td>\n",
       "      <td>6a27a9bf_nohash_0</td>\n",
       "    </tr>\n",
       "    <tr>\n",
       "      <th>2</th>\n",
       "      <td>/tmp/1y4gwaS7LjYUhwTex1-lNHJJ71nLEh3fE/wow/682...</td>\n",
       "      <td>6823565f_nohash_2</td>\n",
       "    </tr>\n",
       "    <tr>\n",
       "      <th>3</th>\n",
       "      <td>/tmp/1y4gwaS7LjYUhwTex1-lNHJJ71nLEh3fE/wow/beb...</td>\n",
       "      <td>beb49c22_nohash_1</td>\n",
       "    </tr>\n",
       "    <tr>\n",
       "      <th>4</th>\n",
       "      <td>/tmp/1y4gwaS7LjYUhwTex1-lNHJJ71nLEh3fE/wow/d37...</td>\n",
       "      <td>d37e4bf1_nohash_0</td>\n",
       "    </tr>\n",
       "  </tbody>\n",
       "</table>\n",
       "</div>"
      ],
      "text/plain": [
       "                                            filename               name\n",
       "0  /tmp/1y4gwaS7LjYUhwTex1-lNHJJ71nLEh3fE/wow/919...  919d3c0e_nohash_2\n",
       "1  /tmp/1y4gwaS7LjYUhwTex1-lNHJJ71nLEh3fE/wow/6a2...  6a27a9bf_nohash_0\n",
       "2  /tmp/1y4gwaS7LjYUhwTex1-lNHJJ71nLEh3fE/wow/682...  6823565f_nohash_2\n",
       "3  /tmp/1y4gwaS7LjYUhwTex1-lNHJJ71nLEh3fE/wow/beb...  beb49c22_nohash_1\n",
       "4  /tmp/1y4gwaS7LjYUhwTex1-lNHJJ71nLEh3fE/wow/d37...  d37e4bf1_nohash_0"
      ]
     },
     "execution_count": 4,
     "metadata": {},
     "output_type": "execute_result"
    }
   ],
   "source": [
    "# You can use inline udf functions\n",
    "df\\\n",
    ".withColumn(\"name\", udf(fs.name)(F.col(\"filename\")))\\\n",
    ".display()"
   ]
  },
  {
   "cell_type": "code",
   "execution_count": 5,
   "id": "04e11e53",
   "metadata": {},
   "outputs": [
    {
     "data": {
      "text/html": [
       "<div>\n",
       "<style scoped>\n",
       "    .dataframe tbody tr th:only-of-type {\n",
       "        vertical-align: middle;\n",
       "    }\n",
       "\n",
       "    .dataframe tbody tr th {\n",
       "        vertical-align: top;\n",
       "    }\n",
       "\n",
       "    .dataframe thead th {\n",
       "        text-align: right;\n",
       "    }\n",
       "</style>\n",
       "<table border=\"1\" class=\"dataframe\">\n",
       "  <thead>\n",
       "    <tr style=\"text-align: right;\">\n",
       "      <th></th>\n",
       "      <th>filename</th>\n",
       "    </tr>\n",
       "    <tr>\n",
       "      <th>classe</th>\n",
       "      <th></th>\n",
       "    </tr>\n",
       "  </thead>\n",
       "  <tbody>\n",
       "    <tr>\n",
       "      <th>wow</th>\n",
       "      <td>/tmp/1y4gwaS7LjYUhwTex1-lNHJJ71nLEh3fE/wow/919...</td>\n",
       "    </tr>\n",
       "    <tr>\n",
       "      <th>wow</th>\n",
       "      <td>/tmp/1y4gwaS7LjYUhwTex1-lNHJJ71nLEh3fE/wow/6a2...</td>\n",
       "    </tr>\n",
       "    <tr>\n",
       "      <th>wow</th>\n",
       "      <td>/tmp/1y4gwaS7LjYUhwTex1-lNHJJ71nLEh3fE/wow/682...</td>\n",
       "    </tr>\n",
       "  </tbody>\n",
       "</table>\n",
       "</div>"
      ],
      "text/plain": [
       "                                                 filename\n",
       "classe                                                   \n",
       "wow     /tmp/1y4gwaS7LjYUhwTex1-lNHJJ71nLEh3fE/wow/919...\n",
       "wow     /tmp/1y4gwaS7LjYUhwTex1-lNHJJ71nLEh3fE/wow/6a2...\n",
       "wow     /tmp/1y4gwaS7LjYUhwTex1-lNHJJ71nLEh3fE/wow/682..."
      ]
     },
     "execution_count": 5,
     "metadata": {},
     "output_type": "execute_result"
    }
   ],
   "source": [
    "# Retrieve the first 3 filename per classe\n",
    "df\\\n",
    ".withColumn(\"classe\", word(F.col(\"filename\")))\\\n",
    ".aggregate(\"classe\")\\\n",
    ".withColumn(\"filename\", F.top_k(F.col(\"filename\"), 3))\\\n",
    ".explode(\"filename\")\\\n",
    ".compute()"
   ]
  },
  {
   "cell_type": "code",
   "execution_count": 6,
   "id": "f218479d",
   "metadata": {},
   "outputs": [
    {
     "data": {
      "text/html": [
       "<div>\n",
       "<style scoped>\n",
       "    .dataframe tbody tr th:only-of-type {\n",
       "        vertical-align: middle;\n",
       "    }\n",
       "\n",
       "    .dataframe tbody tr th {\n",
       "        vertical-align: top;\n",
       "    }\n",
       "\n",
       "    .dataframe thead th {\n",
       "        text-align: right;\n",
       "    }\n",
       "</style>\n",
       "<table border=\"1\" class=\"dataframe\">\n",
       "  <thead>\n",
       "    <tr style=\"text-align: right;\">\n",
       "      <th></th>\n",
       "      <th>filename</th>\n",
       "      <th>classe</th>\n",
       "    </tr>\n",
       "  </thead>\n",
       "  <tbody>\n",
       "    <tr>\n",
       "      <th>0</th>\n",
       "      <td>/tmp/1y4gwaS7LjYUhwTex1-lNHJJ71nLEh3fE/wow/919...</td>\n",
       "      <td>wow</td>\n",
       "    </tr>\n",
       "    <tr>\n",
       "      <th>1</th>\n",
       "      <td>/tmp/1y4gwaS7LjYUhwTex1-lNHJJ71nLEh3fE/wow/6a2...</td>\n",
       "      <td>wow</td>\n",
       "    </tr>\n",
       "    <tr>\n",
       "      <th>2</th>\n",
       "      <td>/tmp/1y4gwaS7LjYUhwTex1-lNHJJ71nLEh3fE/wow/682...</td>\n",
       "      <td>wow</td>\n",
       "    </tr>\n",
       "    <tr>\n",
       "      <th>3</th>\n",
       "      <td>/tmp/1y4gwaS7LjYUhwTex1-lNHJJ71nLEh3fE/wow/beb...</td>\n",
       "      <td>wow</td>\n",
       "    </tr>\n",
       "    <tr>\n",
       "      <th>4</th>\n",
       "      <td>/tmp/1y4gwaS7LjYUhwTex1-lNHJJ71nLEh3fE/wow/d37...</td>\n",
       "      <td>wow</td>\n",
       "    </tr>\n",
       "  </tbody>\n",
       "</table>\n",
       "</div>"
      ],
      "text/plain": [
       "                                            filename classe\n",
       "0  /tmp/1y4gwaS7LjYUhwTex1-lNHJJ71nLEh3fE/wow/919...    wow\n",
       "1  /tmp/1y4gwaS7LjYUhwTex1-lNHJJ71nLEh3fE/wow/6a2...    wow\n",
       "2  /tmp/1y4gwaS7LjYUhwTex1-lNHJJ71nLEh3fE/wow/682...    wow\n",
       "3  /tmp/1y4gwaS7LjYUhwTex1-lNHJJ71nLEh3fE/wow/beb...    wow\n",
       "4  /tmp/1y4gwaS7LjYUhwTex1-lNHJJ71nLEh3fE/wow/d37...    wow"
      ]
     },
     "execution_count": 6,
     "metadata": {},
     "output_type": "execute_result"
    }
   ],
   "source": [
    "# Add the classe column to the original dataframe\n",
    "df = df\\\n",
    ".withColumn(\"classe\", word(F.col(\"filename\")))\n",
    "\n",
    "# Display the modified dataframe\n",
    "df.display()"
   ]
  },
  {
   "cell_type": "code",
   "execution_count": 7,
   "id": "b79f9a36",
   "metadata": {},
   "outputs": [
    {
     "data": {
      "text/html": [
       "<div>\n",
       "<style scoped>\n",
       "    .dataframe tbody tr th:only-of-type {\n",
       "        vertical-align: middle;\n",
       "    }\n",
       "\n",
       "    .dataframe tbody tr th {\n",
       "        vertical-align: top;\n",
       "    }\n",
       "\n",
       "    .dataframe thead th {\n",
       "        text-align: right;\n",
       "    }\n",
       "</style>\n",
       "<table border=\"1\" class=\"dataframe\">\n",
       "  <thead>\n",
       "    <tr style=\"text-align: right;\">\n",
       "      <th></th>\n",
       "      <th>initial</th>\n",
       "    </tr>\n",
       "    <tr>\n",
       "      <th>classe</th>\n",
       "      <th></th>\n",
       "    </tr>\n",
       "  </thead>\n",
       "  <tbody>\n",
       "    <tr>\n",
       "      <th>wow</th>\n",
       "      <td>w</td>\n",
       "    </tr>\n",
       "  </tbody>\n",
       "</table>\n",
       "</div>"
      ],
      "text/plain": [
       "       initial\n",
       "classe        \n",
       "wow          w"
      ]
     },
     "execution_count": 7,
     "metadata": {},
     "output_type": "execute_result"
    }
   ],
   "source": [
    "# Display the dataframe\n",
    "# Retrieve the first 3 filename per classe\n",
    "@udf\n",
    "def initial(classe):\n",
    "    return classe[0]\n",
    "    \n",
    "\n",
    "_df = df\\\n",
    ".aggregate(\"classe\")\\\n",
    ".reset_index(hard=False)\\\n",
    ".withColumn(\"initial\", initial(F.col(\"classe\")))\\\n",
    ".select([\"classe\", \"initial\"])\\\n",
    ".set_index(\"classe\")\n",
    "\n",
    "# Display the dataframe grouped by classe\n",
    "_df.compute()\n",
    "    "
   ]
  },
  {
   "cell_type": "code",
   "execution_count": 8,
   "id": "76fe7da9",
   "metadata": {},
   "outputs": [
    {
     "data": {
      "text/html": [
       "<div>\n",
       "<style scoped>\n",
       "    .dataframe tbody tr th:only-of-type {\n",
       "        vertical-align: middle;\n",
       "    }\n",
       "\n",
       "    .dataframe tbody tr th {\n",
       "        vertical-align: top;\n",
       "    }\n",
       "\n",
       "    .dataframe thead th {\n",
       "        text-align: right;\n",
       "    }\n",
       "</style>\n",
       "<table border=\"1\" class=\"dataframe\">\n",
       "  <thead>\n",
       "    <tr style=\"text-align: right;\">\n",
       "      <th></th>\n",
       "      <th>classe</th>\n",
       "    </tr>\n",
       "    <tr>\n",
       "      <th>initial</th>\n",
       "      <th></th>\n",
       "    </tr>\n",
       "  </thead>\n",
       "  <tbody>\n",
       "    <tr>\n",
       "      <th>w</th>\n",
       "      <td>[wow]</td>\n",
       "    </tr>\n",
       "  </tbody>\n",
       "</table>\n",
       "</div>"
      ],
      "text/plain": [
       "        classe\n",
       "initial       \n",
       "w        [wow]"
      ]
     },
     "execution_count": 8,
     "metadata": {},
     "output_type": "execute_result"
    }
   ],
   "source": [
    "_df_initial = _df.reset_index(hard=False).aggregate(\"initial\")\n",
    "_df_initial.display()"
   ]
  },
  {
   "cell_type": "code",
   "execution_count": 9,
   "id": "0eeb865e",
   "metadata": {},
   "outputs": [
    {
     "data": {
      "text/html": [
       "<div>\n",
       "<style scoped>\n",
       "    .dataframe tbody tr th:only-of-type {\n",
       "        vertical-align: middle;\n",
       "    }\n",
       "\n",
       "    .dataframe tbody tr th {\n",
       "        vertical-align: top;\n",
       "    }\n",
       "\n",
       "    .dataframe thead th {\n",
       "        text-align: right;\n",
       "    }\n",
       "</style>\n",
       "<table border=\"1\" class=\"dataframe\">\n",
       "  <thead>\n",
       "    <tr style=\"text-align: right;\">\n",
       "      <th></th>\n",
       "      <th>classe</th>\n",
       "      <th>initial</th>\n",
       "    </tr>\n",
       "  </thead>\n",
       "  <tbody>\n",
       "    <tr>\n",
       "      <th>0</th>\n",
       "      <td>wow</td>\n",
       "      <td>w</td>\n",
       "    </tr>\n",
       "  </tbody>\n",
       "</table>\n",
       "</div>"
      ],
      "text/plain": [
       "  classe initial\n",
       "0    wow       w"
      ]
     },
     "execution_count": 9,
     "metadata": {},
     "output_type": "execute_result"
    }
   ],
   "source": [
    "_df.display()"
   ]
  },
  {
   "cell_type": "code",
   "execution_count": 10,
   "id": "b1b440a6",
   "metadata": {},
   "outputs": [
    {
     "data": {
      "text/html": [
       "<div>\n",
       "<style scoped>\n",
       "    .dataframe tbody tr th:only-of-type {\n",
       "        vertical-align: middle;\n",
       "    }\n",
       "\n",
       "    .dataframe tbody tr th {\n",
       "        vertical-align: top;\n",
       "    }\n",
       "\n",
       "    .dataframe thead th {\n",
       "        text-align: right;\n",
       "    }\n",
       "</style>\n",
       "<table border=\"1\" class=\"dataframe\">\n",
       "  <thead>\n",
       "    <tr style=\"text-align: right;\">\n",
       "      <th></th>\n",
       "      <th>filename</th>\n",
       "      <th>initial</th>\n",
       "      <th>classe</th>\n",
       "    </tr>\n",
       "  </thead>\n",
       "  <tbody>\n",
       "    <tr>\n",
       "      <th>0</th>\n",
       "      <td>/tmp/1y4gwaS7LjYUhwTex1-lNHJJ71nLEh3fE/wow/919...</td>\n",
       "      <td>w</td>\n",
       "      <td>[wow]</td>\n",
       "    </tr>\n",
       "    <tr>\n",
       "      <th>0</th>\n",
       "      <td>/tmp/1y4gwaS7LjYUhwTex1-lNHJJ71nLEh3fE/wow/6a2...</td>\n",
       "      <td>w</td>\n",
       "      <td>[wow]</td>\n",
       "    </tr>\n",
       "    <tr>\n",
       "      <th>0</th>\n",
       "      <td>/tmp/1y4gwaS7LjYUhwTex1-lNHJJ71nLEh3fE/wow/682...</td>\n",
       "      <td>w</td>\n",
       "      <td>[wow]</td>\n",
       "    </tr>\n",
       "    <tr>\n",
       "      <th>0</th>\n",
       "      <td>/tmp/1y4gwaS7LjYUhwTex1-lNHJJ71nLEh3fE/wow/beb...</td>\n",
       "      <td>w</td>\n",
       "      <td>[wow]</td>\n",
       "    </tr>\n",
       "    <tr>\n",
       "      <th>0</th>\n",
       "      <td>/tmp/1y4gwaS7LjYUhwTex1-lNHJJ71nLEh3fE/wow/d37...</td>\n",
       "      <td>w</td>\n",
       "      <td>[wow]</td>\n",
       "    </tr>\n",
       "  </tbody>\n",
       "</table>\n",
       "</div>"
      ],
      "text/plain": [
       "                                            filename initial classe\n",
       "0  /tmp/1y4gwaS7LjYUhwTex1-lNHJJ71nLEh3fE/wow/919...       w  [wow]\n",
       "0  /tmp/1y4gwaS7LjYUhwTex1-lNHJJ71nLEh3fE/wow/6a2...       w  [wow]\n",
       "0  /tmp/1y4gwaS7LjYUhwTex1-lNHJJ71nLEh3fE/wow/682...       w  [wow]\n",
       "0  /tmp/1y4gwaS7LjYUhwTex1-lNHJJ71nLEh3fE/wow/beb...       w  [wow]\n",
       "0  /tmp/1y4gwaS7LjYUhwTex1-lNHJJ71nLEh3fE/wow/d37...       w  [wow]"
      ]
     },
     "execution_count": 10,
     "metadata": {},
     "output_type": "execute_result"
    }
   ],
   "source": [
    "# Join the dataframes\n",
    "df\\\n",
    ".join(_df, on=\"classe\").drop_column(\"classe\")\\\n",
    ".join(_df_initial, on=\"initial\")\\\n",
    ".display()"
   ]
  }
 ],
 "metadata": {
  "kernelspec": {
   "display_name": "Python 3 (ipykernel)",
   "language": "python",
   "name": "python3"
  },
  "language_info": {
   "codemirror_mode": {
    "name": "ipython",
    "version": 3
   },
   "file_extension": ".py",
   "mimetype": "text/x-python",
   "name": "python",
   "nbconvert_exporter": "python",
   "pygments_lexer": "ipython3",
   "version": "3.8.13"
  },
  "vscode": {
   "interpreter": {
    "hash": "753dbb1416063168754510b979645634b77710eb6a04c7fb2714fb444ae64ce9"
   }
  }
 },
 "nbformat": 4,
 "nbformat_minor": 5
}
