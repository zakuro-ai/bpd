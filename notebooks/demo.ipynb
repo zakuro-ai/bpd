{
 "cells": [
  {
   "cell_type": "code",
   "execution_count": 3,
   "id": "4a4023e2-e285-45ac-b0d2-843faecf1b88",
   "metadata": {},
   "outputs": [],
   "source": [
    "from gnutools import fs\n",
    "from bpd.dask import DataFrame\n",
    "from bpd.dask import functions as F"
   ]
  },
  {
   "cell_type": "code",
   "execution_count": 4,
   "id": "703c7f5c",
   "metadata": {},
   "outputs": [],
   "source": [
    "# Define a function to be applied to each row\n",
    "def word(f):\n",
    "    return fs.name(fs.parent(f))\n",
    "\n",
    "df = DataFrame({\"filename\": fs.listfiles(\"/tmp/GOOGLE/\", [\".wav\"])})\n",
    "df = df\\\n",
    "    .withColumn(\"name\", F.apply(fs.name, F.col(\"filename\")))\\\n",
    "    .withColumn(\"word\", F.apply(word, F.col(\"filename\")))\\\n",
    "    .reset_index()\\\n",
    "    .set_index(\"word\")\n"
   ]
  },
  {
   "cell_type": "code",
   "execution_count": 5,
   "id": "b16a84d9-9b4a-48e8-8ba3-9ca58db628d6",
   "metadata": {},
   "outputs": [],
   "source": [
    "# Define a function to be applied to a groupby\n",
    "def first(L):\n",
    "    return L[0]\n",
    "\n",
    "dfg = df\\\n",
    "    .copy()\\\n",
    "    .select([\"filename\"])\\\n",
    "    .aggregate(\"word\")\\\n",
    "    .withColumn(\"first\", F.apply(first, F.col(\"filename\")))\\\n",
    "    .drop_column(F.col(\"filename\"))\\\n",
    "    .repartition(npartitions=8)"
   ]
  },
  {
   "cell_type": "code",
   "execution_count": 7,
   "id": "e38b116d-5e55-4a9b-897b-2af1118cc267",
   "metadata": {},
   "outputs": [
    {
     "data": {
      "text/html": [
       "<div><strong>Dask DataFrame Structure:</strong></div>\n",
       "<div>\n",
       "<style scoped>\n",
       "    .dataframe tbody tr th:only-of-type {\n",
       "        vertical-align: middle;\n",
       "    }\n",
       "\n",
       "    .dataframe tbody tr th {\n",
       "        vertical-align: top;\n",
       "    }\n",
       "\n",
       "    .dataframe thead th {\n",
       "        text-align: right;\n",
       "    }\n",
       "</style>\n",
       "<table border=\"1\" class=\"dataframe\">\n",
       "  <thead>\n",
       "    <tr style=\"text-align: right;\">\n",
       "      <th></th>\n",
       "      <th>index</th>\n",
       "      <th>filename</th>\n",
       "      <th>name</th>\n",
       "      <th>first</th>\n",
       "    </tr>\n",
       "    <tr>\n",
       "      <th>npartitions=8</th>\n",
       "      <th></th>\n",
       "      <th></th>\n",
       "      <th></th>\n",
       "      <th></th>\n",
       "    </tr>\n",
       "  </thead>\n",
       "  <tbody>\n",
       "    <tr>\n",
       "      <th></th>\n",
       "      <td>int64</td>\n",
       "      <td>object</td>\n",
       "      <td>object</td>\n",
       "      <td>object</td>\n",
       "    </tr>\n",
       "    <tr>\n",
       "      <th></th>\n",
       "      <td>...</td>\n",
       "      <td>...</td>\n",
       "      <td>...</td>\n",
       "      <td>...</td>\n",
       "    </tr>\n",
       "    <tr>\n",
       "      <th>...</th>\n",
       "      <td>...</td>\n",
       "      <td>...</td>\n",
       "      <td>...</td>\n",
       "      <td>...</td>\n",
       "    </tr>\n",
       "    <tr>\n",
       "      <th></th>\n",
       "      <td>...</td>\n",
       "      <td>...</td>\n",
       "      <td>...</td>\n",
       "      <td>...</td>\n",
       "    </tr>\n",
       "    <tr>\n",
       "      <th></th>\n",
       "      <td>...</td>\n",
       "      <td>...</td>\n",
       "      <td>...</td>\n",
       "      <td>...</td>\n",
       "    </tr>\n",
       "  </tbody>\n",
       "</table>\n",
       "</div>\n",
       "<div>Dask Name: merge_chunk, 36 graph layers</div>"
      ],
      "text/plain": [
       "<bpd.dask.daskframe.DaskFrame at 0x7ff9c4465670>"
      ]
     },
     "execution_count": 7,
     "metadata": {},
     "output_type": "execute_result"
    }
   ],
   "source": [
    "# Apply the join on df\n",
    "df.join(dfg, on=\"word\")"
   ]
  },
  {
   "cell_type": "code",
   "execution_count": 8,
   "id": "72271f20-6e96-4057-a6f3-09c7ef7bb3cc",
   "metadata": {},
   "outputs": [
    {
     "data": {
      "text/html": [
       "<div><strong>Dask DataFrame Structure:</strong></div>\n",
       "<div>\n",
       "<style scoped>\n",
       "    .dataframe tbody tr th:only-of-type {\n",
       "        vertical-align: middle;\n",
       "    }\n",
       "\n",
       "    .dataframe tbody tr th {\n",
       "        vertical-align: top;\n",
       "    }\n",
       "\n",
       "    .dataframe thead th {\n",
       "        text-align: right;\n",
       "    }\n",
       "</style>\n",
       "<table border=\"1\" class=\"dataframe\">\n",
       "  <thead>\n",
       "    <tr style=\"text-align: right;\">\n",
       "      <th></th>\n",
       "      <th>index</th>\n",
       "      <th>filename</th>\n",
       "      <th>name</th>\n",
       "      <th>first</th>\n",
       "    </tr>\n",
       "    <tr>\n",
       "      <th>npartitions=8</th>\n",
       "      <th></th>\n",
       "      <th></th>\n",
       "      <th></th>\n",
       "      <th></th>\n",
       "    </tr>\n",
       "  </thead>\n",
       "  <tbody>\n",
       "    <tr>\n",
       "      <th></th>\n",
       "      <td>int64</td>\n",
       "      <td>object</td>\n",
       "      <td>object</td>\n",
       "      <td>object</td>\n",
       "    </tr>\n",
       "    <tr>\n",
       "      <th></th>\n",
       "      <td>...</td>\n",
       "      <td>...</td>\n",
       "      <td>...</td>\n",
       "      <td>...</td>\n",
       "    </tr>\n",
       "    <tr>\n",
       "      <th>...</th>\n",
       "      <td>...</td>\n",
       "      <td>...</td>\n",
       "      <td>...</td>\n",
       "      <td>...</td>\n",
       "    </tr>\n",
       "    <tr>\n",
       "      <th></th>\n",
       "      <td>...</td>\n",
       "      <td>...</td>\n",
       "      <td>...</td>\n",
       "      <td>...</td>\n",
       "    </tr>\n",
       "    <tr>\n",
       "      <th></th>\n",
       "      <td>...</td>\n",
       "      <td>...</td>\n",
       "      <td>...</td>\n",
       "      <td>...</td>\n",
       "    </tr>\n",
       "  </tbody>\n",
       "</table>\n",
       "</div>\n",
       "<div>Dask Name: merge_chunk, 36 graph layers</div>"
      ],
      "text/plain": [
       "<bpd.dask.daskframe.DaskFrame at 0x7ff9c4465670>"
      ]
     },
     "execution_count": 8,
     "metadata": {},
     "output_type": "execute_result"
    }
   ],
   "source": [
    "df.export(\"test.csv\")"
   ]
  }
 ],
 "metadata": {
  "kernelspec": {
   "display_name": "Python 3 (ipykernel)",
   "language": "python",
   "name": "python3"
  },
  "language_info": {
   "codemirror_mode": {
    "name": "ipython",
    "version": 3
   },
   "file_extension": ".py",
   "mimetype": "text/x-python",
   "name": "python",
   "nbconvert_exporter": "python",
   "pygments_lexer": "ipython3",
   "version": "3.8.13"
  },
  "vscode": {
   "interpreter": {
    "hash": "753dbb1416063168754510b979645634b77710eb6a04c7fb2714fb444ae64ce9"
   }
  }
 },
 "nbformat": 4,
 "nbformat_minor": 5
}
