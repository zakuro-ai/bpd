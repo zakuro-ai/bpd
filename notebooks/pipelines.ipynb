{
 "cells": [
  {
   "cell_type": "code",
   "execution_count": 1,
   "id": "4a4023e2-e285-45ac-b0d2-843faecf1b88",
   "metadata": {},
   "outputs": [],
   "source": [
    "from gnutools import fs\n",
    "from bpd import cfg\n",
    "from bpd.dask import DataFrame, udf\n",
    "from bpd.dask import functions as F\n",
    "from gnutools.remote import gdrivezip\n",
    "from bpd.dask.pipelines import *"
   ]
  },
  {
   "cell_type": "code",
   "execution_count": 2,
   "id": "0eafc4dc-5992-4469-984c-9963f5ee1953",
   "metadata": {},
   "outputs": [
    {
     "data": {
      "text/html": [
       "<div>\n",
       "<style scoped>\n",
       "    .dataframe tbody tr th:only-of-type {\n",
       "        vertical-align: middle;\n",
       "    }\n",
       "\n",
       "    .dataframe tbody tr th {\n",
       "        vertical-align: top;\n",
       "    }\n",
       "\n",
       "    .dataframe thead th {\n",
       "        text-align: right;\n",
       "    }\n",
       "</style>\n",
       "<table border=\"1\" class=\"dataframe\">\n",
       "  <thead>\n",
       "    <tr style=\"text-align: right;\">\n",
       "      <th></th>\n",
       "      <th>filename</th>\n",
       "    </tr>\n",
       "  </thead>\n",
       "  <tbody>\n",
       "    <tr>\n",
       "      <th>0</th>\n",
       "      <td>/tmp/1y4gwaS7LjYUhwTex1-lNHJJ71nLEh3fE/wow/919...</td>\n",
       "    </tr>\n",
       "    <tr>\n",
       "      <th>1</th>\n",
       "      <td>/tmp/1y4gwaS7LjYUhwTex1-lNHJJ71nLEh3fE/wow/6a2...</td>\n",
       "    </tr>\n",
       "    <tr>\n",
       "      <th>2</th>\n",
       "      <td>/tmp/1y4gwaS7LjYUhwTex1-lNHJJ71nLEh3fE/wow/682...</td>\n",
       "    </tr>\n",
       "    <tr>\n",
       "      <th>3</th>\n",
       "      <td>/tmp/1y4gwaS7LjYUhwTex1-lNHJJ71nLEh3fE/wow/beb...</td>\n",
       "    </tr>\n",
       "    <tr>\n",
       "      <th>4</th>\n",
       "      <td>/tmp/1y4gwaS7LjYUhwTex1-lNHJJ71nLEh3fE/wow/d37...</td>\n",
       "    </tr>\n",
       "  </tbody>\n",
       "</table>\n",
       "</div>"
      ],
      "text/plain": [
       "                                            filename\n",
       "0  /tmp/1y4gwaS7LjYUhwTex1-lNHJJ71nLEh3fE/wow/919...\n",
       "1  /tmp/1y4gwaS7LjYUhwTex1-lNHJJ71nLEh3fE/wow/6a2...\n",
       "2  /tmp/1y4gwaS7LjYUhwTex1-lNHJJ71nLEh3fE/wow/682...\n",
       "3  /tmp/1y4gwaS7LjYUhwTex1-lNHJJ71nLEh3fE/wow/beb...\n",
       "4  /tmp/1y4gwaS7LjYUhwTex1-lNHJJ71nLEh3fE/wow/d37..."
      ]
     },
     "execution_count": 2,
     "metadata": {},
     "output_type": "execute_result"
    }
   ],
   "source": [
    "# Import a sample dataset\n",
    "df = DataFrame({\"filename\": fs.listfiles(gdrivezip(cfg.gdrive.google_mini)[0], [\".wav\"])})\n",
    "df.compute()      "
   ]
  },
  {
   "cell_type": "code",
   "execution_count": 3,
   "id": "53fc66b1",
   "metadata": {},
   "outputs": [
    {
     "data": {
      "text/html": [
       "<div>\n",
       "<style scoped>\n",
       "    .dataframe tbody tr th:only-of-type {\n",
       "        vertical-align: middle;\n",
       "    }\n",
       "\n",
       "    .dataframe tbody tr th {\n",
       "        vertical-align: top;\n",
       "    }\n",
       "\n",
       "    .dataframe thead th {\n",
       "        text-align: right;\n",
       "    }\n",
       "</style>\n",
       "<table border=\"1\" class=\"dataframe\">\n",
       "  <thead>\n",
       "    <tr style=\"text-align: right;\">\n",
       "      <th></th>\n",
       "      <th>filename</th>\n",
       "      <th>initial</th>\n",
       "    </tr>\n",
       "  </thead>\n",
       "  <tbody>\n",
       "    <tr>\n",
       "      <th>0</th>\n",
       "      <td>/tmp/1y4gwaS7LjYUhwTex1-lNHJJ71nLEh3fE/wow/919...</td>\n",
       "      <td>[wow]</td>\n",
       "    </tr>\n",
       "    <tr>\n",
       "      <th>0</th>\n",
       "      <td>/tmp/1y4gwaS7LjYUhwTex1-lNHJJ71nLEh3fE/wow/6a2...</td>\n",
       "      <td>[wow]</td>\n",
       "    </tr>\n",
       "    <tr>\n",
       "      <th>0</th>\n",
       "      <td>/tmp/1y4gwaS7LjYUhwTex1-lNHJJ71nLEh3fE/wow/682...</td>\n",
       "      <td>[wow]</td>\n",
       "    </tr>\n",
       "    <tr>\n",
       "      <th>0</th>\n",
       "      <td>/tmp/1y4gwaS7LjYUhwTex1-lNHJJ71nLEh3fE/wow/beb...</td>\n",
       "      <td>[wow]</td>\n",
       "    </tr>\n",
       "    <tr>\n",
       "      <th>0</th>\n",
       "      <td>/tmp/1y4gwaS7LjYUhwTex1-lNHJJ71nLEh3fE/wow/d37...</td>\n",
       "      <td>[wow]</td>\n",
       "    </tr>\n",
       "  </tbody>\n",
       "</table>\n",
       "</div>"
      ],
      "text/plain": [
       "                                            filename initial\n",
       "0  /tmp/1y4gwaS7LjYUhwTex1-lNHJJ71nLEh3fE/wow/919...   [wow]\n",
       "0  /tmp/1y4gwaS7LjYUhwTex1-lNHJJ71nLEh3fE/wow/6a2...   [wow]\n",
       "0  /tmp/1y4gwaS7LjYUhwTex1-lNHJJ71nLEh3fE/wow/682...   [wow]\n",
       "0  /tmp/1y4gwaS7LjYUhwTex1-lNHJJ71nLEh3fE/wow/beb...   [wow]\n",
       "0  /tmp/1y4gwaS7LjYUhwTex1-lNHJJ71nLEh3fE/wow/d37...   [wow]"
      ]
     },
     "execution_count": 3,
     "metadata": {},
     "output_type": "execute_result"
    }
   ],
   "source": [
    "# Register a user-defined function\n",
    "@udf\n",
    "def word(f):\n",
    "    return fs.name(fs.parent(f))\n",
    "\n",
    "@udf\n",
    "def initial(classe):\n",
    "    return classe[0]\n",
    "\n",
    "@udf\n",
    "def lists(classes):\n",
    "    return list(set(classes))\n",
    "    \n",
    "\n",
    "df.run_pipelines(\n",
    "    [\n",
    "        {\n",
    "            select_cols: (\"filename\",),\n",
    "            pipeline: (\n",
    "                (\"classe\", word(F.col(\"filename\"))),\n",
    "                (\"name\", udf(fs.name)(F.col(\"filename\"))),\n",
    "            ),\n",
    "        },\n",
    "        {\n",
    "            group_on: \"classe\",\n",
    "            select_cols: (\"name\", ),\n",
    "            pipeline: (\n",
    "                (\"initial\", initial(F.col(\"classe\"))),\n",
    "            ),\n",
    "        },\n",
    "        {\n",
    "            group_on: \"initial\",\n",
    "            select_cols: (\"classe\", ),\n",
    "            pipeline: (\n",
    "                (\"_initial\", lists(F.col(\"classe\"))),\n",
    "            ),\n",
    "        },\n",
    "    ]\n",
    ")\\\n",
    ".withColumnRenamed(\"_initial\", \"initial\")\\\n",
    ".compute()"
   ]
  }
 ],
 "metadata": {
  "kernelspec": {
   "display_name": "Python 3 (ipykernel)",
   "language": "python",
   "name": "python3"
  },
  "language_info": {
   "codemirror_mode": {
    "name": "ipython",
    "version": 3
   },
   "file_extension": ".py",
   "mimetype": "text/x-python",
   "name": "python",
   "nbconvert_exporter": "python",
   "pygments_lexer": "ipython3",
   "version": "3.8.13"
  },
  "vscode": {
   "interpreter": {
    "hash": "753dbb1416063168754510b979645634b77710eb6a04c7fb2714fb444ae64ce9"
   }
  }
 },
 "nbformat": 4,
 "nbformat_minor": 5
}
